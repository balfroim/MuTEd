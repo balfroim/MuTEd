{
 "cells": [
  {
   "cell_type": "code",
   "execution_count": 1,
   "id": "fbe1a7a4",
   "metadata": {},
   "outputs": [],
   "source": [
    "import pandas as pd\n",
    "import numpy as np\n",
    "from collections import defaultdict\n",
    "from styleframe import StyleFrame\n",
    "import seaborn as sns\n",
    "import matplotlib.pyplot as plt\n",
    "from typing import List, Dict, Tuple\n",
    "from collections.abc import Callable\n",
    "from dataclasses import dataclass\n",
    "import re\n",
    "from scipy import stats"
   ]
  },
  {
   "cell_type": "code",
   "execution_count": 2,
   "id": "38b136ed",
   "metadata": {},
   "outputs": [],
   "source": [
    "sns.set_theme(style=\"whitegrid\")"
   ]
  },
  {
   "cell_type": "markdown",
   "id": "30413fa5",
   "metadata": {},
   "source": [
    "# Mutation score"
   ]
  },
  {
   "cell_type": "code",
   "execution_count": 3,
   "id": "50073fba",
   "metadata": {},
   "outputs": [],
   "source": [
    "N_MUTANTS = {'total': 39}\n",
    "N_MUTANTS_PER_CLASS = {'Tile': 24, 'Grid': 15}\n",
    "N_MUTANTS_PER_MUTATOR = {'returns.BooleanFalseReturnValsMutator': 1, 'IncrementsMutator': 2, 'VoidMethodCallMutator': 2, 'returns.BooleanTrueReturnValsMutator': 7, 'ConditionalsBoundaryMutator': 1, 'returns.NullReturnValsMutator': 4, 'returns.EmptyObjectReturnValsMutator': 1, 'NegateConditionalsMutator': 10, 'MathMutator': 6, 'returns.PrimitiveReturnsMutator': 5}\n",
    "N_MUTANTS_PER_METHOD = {'Tile.getNearestPower2': 2, 'Tile.getValue': 1, 'Tile.isMerged': 2, 'Tile.canMergeWith': 7, 'Tile.mergeWith': 5, 'Tile.toString': 1, 'Tile.equals': 6, 'Grid.getTile': 4, 'Grid.getRow': 1, 'Grid.getCol': 4, 'Grid.setTile': 2, 'Grid.getLength': 1, 'Grid.clearMerged': 3}\n",
    "N_MUTANTS_ALL = {**N_MUTANTS, **N_MUTANTS_PER_CLASS, **N_MUTANTS_PER_METHOD}"
   ]
  },
  {
   "cell_type": "code",
   "execution_count": 4,
   "id": "cde3033b",
   "metadata": {},
   "outputs": [],
   "source": [
    "def count_students(_df: pd.DataFrame):\n",
    "    \"\"\"Count the number of students for each part and group.\"\"\"\n",
    "    _df = _df.groupby([\"group\", \"part\", \"id\"]).sum()\n",
    "    for part in (1, 2):\n",
    "        for group in (\"pit\", \"reneri\"):\n",
    "            print(f\"[Part {part}] Students in {group} group : {len(_df.loc[(group, 2)])}\")"
   ]
  },
  {
   "cell_type": "code",
   "execution_count": 5,
   "id": "1ccd6c02",
   "metadata": {},
   "outputs": [],
   "source": [
    "def display_rmv_students(_df: pd.DataFrame, col: str):\n",
    "    \"\"\"Display all the students to remove because there is null values.\"\"\"\n",
    "    removed_students = _df[_df[col].isnull()][\"id\"]\n",
    "    removed_students = sorted(list(set(removed_students)))\n",
    "    removed_students = map(str, removed_students)\n",
    "    print(\"Students \" + \", \".join(removed_students) + \" were removed.\")"
   ]
  },
  {
   "cell_type": "code",
   "execution_count": 6,
   "id": "c22bcd29",
   "metadata": {},
   "outputs": [],
   "source": [
    "def filter_not_both_part(_df: pd.DataFrame, nb_duplicates: int = 2) -> pd.DataFrame:\n",
    "    \"\"\"Remove people that didn't do both part\"\"\"\n",
    "    both_part_ids = [i for i, v in dict(_df[\"id\"].value_counts()).items() if v == nb_duplicates]\n",
    "    return _df[_df[\"id\"].isin(both_part_ids)]"
   ]
  },
  {
   "cell_type": "code",
   "execution_count": 7,
   "id": "e708288c",
   "metadata": {},
   "outputs": [
    {
     "name": "stdout",
     "output_type": "stream",
     "text": [
      "[Part 1] Students in pit group : 21\n",
      "[Part 1] Students in reneri group : 22\n",
      "[Part 2] Students in pit group : 21\n",
      "[Part 2] Students in reneri group : 22\n"
     ]
    }
   ],
   "source": [
    "mutants_df = pd.read_csv(\"./data/mutants.csv\")\n",
    "mutants_df = mutants_df.drop(list(N_MUTANTS_PER_MUTATOR.keys()), axis=1)\n",
    "count_students(mutants_df)"
   ]
  },
  {
   "cell_type": "code",
   "execution_count": 8,
   "id": "9119a366",
   "metadata": {},
   "outputs": [
    {
     "name": "stdout",
     "output_type": "stream",
     "text": [
      "Students 2, 4, 9, 13, 16, 18, 20, 21, 22, 24, 26, 35 were removed.\n"
     ]
    }
   ],
   "source": [
    "display_rmv_students(mutants_df, \"total\")"
   ]
  },
  {
   "cell_type": "code",
   "execution_count": 9,
   "id": "c7bdba94",
   "metadata": {},
   "outputs": [
    {
     "name": "stdout",
     "output_type": "stream",
     "text": [
      "[Part 1] Students in pit group : 18\n",
      "[Part 1] Students in reneri group : 17\n",
      "[Part 2] Students in pit group : 18\n",
      "[Part 2] Students in reneri group : 17\n"
     ]
    }
   ],
   "source": [
    "mutants_df = mutants_df.dropna()\n",
    "count_students(mutants_df)"
   ]
  },
  {
   "cell_type": "code",
   "execution_count": 10,
   "id": "102290a8",
   "metadata": {},
   "outputs": [
    {
     "name": "stdout",
     "output_type": "stream",
     "text": [
      "[Part 1] Students in pit group : 16\n",
      "[Part 1] Students in reneri group : 15\n",
      "[Part 2] Students in pit group : 16\n",
      "[Part 2] Students in reneri group : 15\n"
     ]
    }
   ],
   "source": [
    "mutants_df = filter_not_both_part(mutants_df)\n",
    "count_students(mutants_df)"
   ]
  },
  {
   "cell_type": "code",
   "execution_count": 11,
   "id": "07dda727",
   "metadata": {},
   "outputs": [],
   "source": [
    "mutants_df = mutants_df.groupby([\"group\", \"part\", \"id\"]).sum()"
   ]
  },
  {
   "cell_type": "code",
   "execution_count": 12,
   "id": "52b925fb",
   "metadata": {},
   "outputs": [],
   "source": [
    "@dataclass(frozen=True)\n",
    "class ColWrappingInfo:\n",
    "    file_name: str\n",
    "    data: pd.DataFrame\n",
    "    col_wrap: int = None\n",
    "    legend: bool = True\n",
    "\n",
    "def handle_odd_col_wrap(col_wrap:int, df: pd.DataFrame, col_name: str, file_name: str, names: List[str]) -> List[ColWrappingInfo]:\n",
    "    if col_wrap is None or len(names) % col_wrap == 0:\n",
    "        return [ColWrappingInfo(file_name=f'{file_name}', data=df[df[col_name].isin(names)], col_wrap=col_wrap)]\n",
    "    nb_empty_cells = len(names) % col_wrap\n",
    "    head_data = df[df[col_name].isin(names[:-nb_empty_cells])]\n",
    "    tail_data = df[df[col_name].isin(names[-nb_empty_cells:])]\n",
    "    return [\n",
    "        ColWrappingInfo(\n",
    "            file_name=f'{file_name}_head',\n",
    "            data=head_data,\n",
    "            col_wrap=col_wrap,\n",
    "        ),\n",
    "        ColWrappingInfo(\n",
    "            file_name=f'{file_name}_tail',\n",
    "            data=tail_data,\n",
    "            col_wrap=nb_empty_cells,\n",
    "            legend=False,\n",
    "        ),\n",
    "    ]"
   ]
  },
  {
   "cell_type": "code",
   "execution_count": 13,
   "id": "1587fb1e",
   "metadata": {},
   "outputs": [],
   "source": [
    "def plot_box(df: pd.DataFrame, cols_to_filter: List[str], file_name: str, var_name:str=None, col_wrap: int=None):\n",
    "    def plot_line(data, **kwargs):\n",
    "        \"\"\"Plot an horizontal line to show the total number of mutants in the block.\"\"\"\n",
    "        datum = next(iter(set(data)))\n",
    "        plt.axhline(N_MUTANTS_ALL[datum], **kwargs)\n",
    "    data = df[cols_to_filter].reset_index().copy()\n",
    "    data = data.melt([\"group\", \"part\", \"id\"])\n",
    "    data = data.rename({\"value\": \"mutation score\", \"variable\": var_name}, axis=1)\n",
    "    infos = handle_odd_col_wrap(col_wrap, data, var_name, file_name, cols_to_filter)\n",
    "    for info in infos:       \n",
    "        grid = sns.catplot(x=\"group\", y=\"mutation score\", hue=\"part\", col=var_name, kind=\"box\", data=info.data, \n",
    "                             sharey=True, showmeans=True, col_wrap=info.col_wrap, sharex=False, legend_out=True, legend=info.legend)\n",
    "        grid.map(plot_line, var_name, linewidth=3, alpha=0.5, color='r')\n",
    "        grid.set(ylabel='mutation score', xlabel='group')\n",
    "        grid.figure.savefig(f\"output/images/mutants/{info.file_name}.pdf\")"
   ]
  },
  {
   "cell_type": "code",
   "execution_count": 14,
   "id": "3df6c241",
   "metadata": {
    "scrolled": true
   },
   "outputs": [
    {
     "data": {
      "image/png": "[encoded data removed]",
      "text/plain": [
       "<Figure size 405.725x360 with 1 Axes>"
      ]
     },
     "metadata": {},
     "output_type": "display_data"
    }
   ],
   "source": [
    "plot_box(mutants_df, [\"total\"], \"total_mutants_boxplot\")"
   ]
  },
  {
   "cell_type": "code",
   "execution_count": 15,
   "id": "09ba5e67",
   "metadata": {},
   "outputs": [
    {
     "data": {
      "image/png": "[encoded data removed]",
      "text/plain": [
       "<Figure size 765.725x360 with 2 Axes>"
      ]
     },
     "metadata": {},
     "output_type": "display_data"
    }
   ],
   "source": [
    "plot_box(mutants_df, [\"Tile\", \"Grid\"], \"class_mutants_boxplot\", \"class\")"
   ]
  },
  {
   "cell_type": "code",
   "execution_count": 16,
   "id": "83bbc5b1",
   "metadata": {},
   "outputs": [
    {
     "data": {
      "image/png": "[encoded data removed]",
      "text/plain": [
       "<Figure size 1485.72x360 with 4 Axes>"
      ]
     },
     "metadata": {},
     "output_type": "display_data"
    },
    {
     "data": {
      "image/png": "[encoded data removed]",
      "text/plain": [
       "<Figure size 1080x360 with 3 Axes>"
      ]
     },
     "metadata": {},
     "output_type": "display_data"
    },
    {
     "data": {
      "image/png": "[encoded data removed]",
      "text/plain": [
       "<Figure size 1125.72x720 with 6 Axes>"
      ]
     },
     "metadata": {},
     "output_type": "display_data"
    }
   ],
   "source": [
    "methods_cols = list(N_MUTANTS_PER_METHOD.keys())\n",
    "for cls, col_wrap in ((\"Tile\", 4), (\"Grid\", 3)):\n",
    "    cls_methods_cols = [col for col in methods_cols if f\"{cls}.\" in col]\n",
    "    plot_box(mutants_df, cls_methods_cols, f\"{cls.lower()}_methods_mutants_boxplot\", \"method\", col_wrap=col_wrap)"
   ]
  },
  {
   "cell_type": "code",
   "execution_count": 17,
   "id": "8672eb85",
   "metadata": {
    "scrolled": false
   },
   "outputs": [],
   "source": [
    "def plot_violin(_df: pd.DataFrame, col: str, file_name: str):\n",
    "    data = _df.reset_index().copy()\n",
    "    ax = sns.violinplot(x=\"group\", y=col, hue=\"part\", \n",
    "                          data=data, split=True,  inner=\"quartile\")\n",
    "    ax.set(ylabel=\"mutation score\")\n",
    "    ax.get_figure().savefig(f\"output/images/mutants/{file_name}.pdf\", bbox_inches=\"tight\")"
   ]
  },
  {
   "cell_type": "code",
   "execution_count": 18,
   "id": "157095aa",
   "metadata": {},
   "outputs": [
    {
     "data": {
      "image/png": "[encoded data removed]",
      "text/plain": [
       "<Figure size 432x288 with 1 Axes>"
      ]
     },
     "metadata": {},
     "output_type": "display_data"
    }
   ],
   "source": [
    "plot_violin(mutants_df, \"total\", \"total_mutants_violinplot\")"
   ]
  },
  {
   "cell_type": "code",
   "execution_count": 19,
   "id": "177f6c1e",
   "metadata": {},
   "outputs": [],
   "source": [
    "def format_cell(nb: float, nb_total: int, part: int) -> str:\n",
    "    \"\"\"Format a cell as a string showing the number of killed mutants out of the total number of mutants and the percentage.\"\"\"\n",
    "    perc = int(nb/nb_total*100)\n",
    "    if part == \"$\\\\Delta$\":\n",
    "        return f\"{nb:+.1f} ({perc:+.0f}\\\\%)\"\n",
    "    return f\"{nb:.1f}/{nb_total} ({perc:.0f}\\\\%)\""
   ]
  },
  {
   "cell_type": "code",
   "execution_count": 20,
   "id": "c7d61048",
   "metadata": {},
   "outputs": [],
   "source": [
    "def to_latex_table(_df: pd.DataFrame, measure_name: str, value_name: str) -> str:\n",
    "    label = f\"tab:{measure_name}_{value_name}\".lower().replace(' ', '_')\n",
    "    caption = f\"{measure_name} {value_name}\"\n",
    "    styler = _df.style.format_index(escape=\"latex\", axis=0)\n",
    "    column_format =  f\"l{'c' * len(_df.columns)}\"\n",
    "    return styler.to_latex(\n",
    "        column_format=column_format,\n",
    "        hrules=True, label=label, caption=caption, multicol_align=\"c\", environment=\"sidewaystable\"\n",
    "    ).replace(\"\\\\midrule\", \"\\\\cmidrule(lr){1-1} \\\\cmidrule(lr){2-4} \\\\cmidrule(lr){5-7}\")"
   ]
  },
  {
   "cell_type": "code",
   "execution_count": 21,
   "id": "9d64a9cd",
   "metadata": {},
   "outputs": [],
   "source": [
    "def compute_delta(_df: pd.DataFrame, sublevels: Tuple[any]=None) -> pd.DataFrame:\n",
    "    if sublevels is None:\n",
    "        sublevels = ()\n",
    "    for group in (\"pit\", \"reneri\"):\n",
    "        _df[(group, \"$\\\\Delta$\")+sublevels] = _df[(group, 2)+sublevels] - _df[(group, 1)+sublevels]\n",
    "    for i in range(len(sublevels),-1,-1):\n",
    "        _df = _df.sort_index(level=i, axis=1)\n",
    "    return _df"
   ]
  },
  {
   "cell_type": "code",
   "execution_count": 22,
   "id": "c4de18d8",
   "metadata": {},
   "outputs": [],
   "source": [
    "MIDRULE = r\"\\n\\\\cmidrule(lr){1-1} \\\\cmidrule(lr){2-4} \\\\cmidrule(lr){5-7}\""
   ]
  },
  {
   "cell_type": "code",
   "execution_count": 23,
   "id": "81936aeb",
   "metadata": {},
   "outputs": [],
   "source": [
    "def write_table_mutants(_df: pd.DataFrame, measure_name: str):\n",
    "    file_name = f\"killed_mutants_{measure_name}\".lower().replace(' ', '_')\n",
    "    _df = compute_delta(_df)\n",
    "    for var_name, nb_total in N_MUTANTS_ALL.items():\n",
    "        for group in (\"pit\", \"reneri\"):\n",
    "            for part in (1, 2, \"$\\\\Delta$\"):\n",
    "                nb = _df[(group, part)][var_name]\n",
    "                _df.loc[var_name, (group, part)] = format_cell(nb, nb_total, part)\n",
    "    _df = _df.rename({\"total\": \"Total\"})\n",
    "    _df.columns.names = [\"\\\\textbf{Group}\", \"\\\\textbf{Part}\"]\n",
    "    latex_table = to_latex_table(_df, measure_name, \"Number of Killed Mutants\")\n",
    "    latex_table = re.sub(r\"(?=\\nTile )\", MIDRULE, latex_table)\n",
    "    latex_table = re.sub(r\"(?=\\nTile.getNearestPower2)\", MIDRULE, latex_table)\n",
    "    latex_table = re.sub(r\"(?=\\\\caption)\", r\"\\\\centering\\n\", latex_table)\n",
    "    with open(f\"output/tables/mutants/{file_name}.tex\", \"w\") as f:\n",
    "        f.write(latex_table)"
   ]
  },
  {
   "cell_type": "code",
   "execution_count": 24,
   "id": "edf75a4f",
   "metadata": {},
   "outputs": [],
   "source": [
    "grouped_mutants_df = mutants_df.groupby([\"group\", \"part\"])\n",
    "avg_mutants_df = grouped_mutants_df.mean().transpose()\n",
    "std_mutants_df = grouped_mutants_df.std().transpose()\n",
    "median_mutants_df = grouped_mutants_df.median().transpose()\n",
    "q1_mutants_df = grouped_mutants_df.quantile(0.25).transpose()\n",
    "q3_mutants_df = grouped_mutants_df.quantile(0.75).transpose()\n",
    "iqr_mutants_df = q3_mutants_df - q1_mutants_df"
   ]
  },
  {
   "cell_type": "code",
   "execution_count": 25,
   "id": "d82ea01f",
   "metadata": {},
   "outputs": [],
   "source": [
    "write_table_mutants(avg_mutants_df, \"Average\"),\n",
    "write_table_mutants(std_mutants_df, \"Standard Deviation\"),\n",
    "write_table_mutants(median_mutants_df, \"Median\"),\n",
    "write_table_mutants(q1_mutants_df, \"First Quartile\"),\n",
    "write_table_mutants(q3_mutants_df, \"Third Quartile\"),\n",
    "write_table_mutants(iqr_mutants_df, \"Interquartile Range\")"
   ]
  },
  {
   "cell_type": "code",
   "execution_count": 26,
   "id": "d7055ac0",
   "metadata": {},
   "outputs": [],
   "source": [
    "@dataclass(frozen=True)\n",
    "class GroupStats:\n",
    "    mean: float\n",
    "    std: float\n",
    "    size: int\n",
    "    values: List[float]\n",
    "        \n",
    "    def __sub__(self, b):\n",
    "        assert self.size == b.size\n",
    "        return GroupStats(\n",
    "            mean=self.mean-b.mean,\n",
    "            std=self.std-b.std,\n",
    "            size=self.size,\n",
    "            values=self.values-b.values\n",
    "        )\n",
    "        \n",
    "\n",
    "# https://en.wikipedia.org/wiki/Pooled_variance\n",
    "def pooled_variance(group1: GroupStats, group2: GroupStats) -> float:\n",
    "    \"\"\"\n",
    "    Estimate common variance between two groups with similar variance.\n",
    "    \"\"\"\n",
    "    assert 0.5 <= (group1.std / group2.std ) <= 2\n",
    "    numerator = (group1.std ** 2) * (group1.size - 1) + (group2.std ** 2) * (group2.size - 1)\n",
    "    denominator = group1.size + group2.size - 2\n",
    "    return numerator / denominator\n",
    "\n",
    "# https://en.wikipedia.org/wiki/Effect_size#Cohen's_d\n",
    "def cohend(group1: GroupStats, group2: GroupStats) -> float:\n",
    "    \"\"\"Compute the difference between two means divided by a standard deviation\"\"\"\n",
    "    return abs(group1.mean - group2.mean) / (pooled_variance(group1, group2)**0.5)"
   ]
  },
  {
   "cell_type": "code",
   "execution_count": 27,
   "id": "649a739f",
   "metadata": {},
   "outputs": [],
   "source": [
    "from scipy.stats import rankdata\n",
    "\n",
    "# https://gist.github.com/jacksonpradolima/f9b19d65b7f16603c837024d5f8c8a65\n",
    "def VD_A(control: List[float], treatment: List[float]):\n",
    "    \"\"\"\n",
    "    Computes Vargha and Delaney A index\n",
    "    A. Vargha and H. D. Delaney.\n",
    "    A critique and improvement of the CL common language\n",
    "    effect size statistics of McGraw and Wong.\n",
    "    Journal of Educational and Behavioral Statistics, 25(2):101-132, 2000\n",
    "    The formula to compute A has been transformed to minimize accuracy errors\n",
    "    See: http://mtorchiano.wordpress.com/2014/05/19/effect-size-of-r-precision/\n",
    "    \"\"\"\n",
    "    m = len(treatment)\n",
    "    n = len(control)\n",
    "\n",
    "    r = rankdata(treatment + control)\n",
    "    r1 = sum(r[0:m])\n",
    "\n",
    "    # Compute the measure\n",
    "    # A = (r1/m - (m+1)/2)/n # formula (14) in Vargha and Delaney, 2000\n",
    "    return(2 * r1 - m * (m + 1)) / (2 * n * m)  # equivalent formula to avoid accuracy errors\n",
    "\n",
    "def interpret_vda(vda: float):\n",
    "    diff = abs(0.5 - vda)\n",
    "    if diff < 0.06:\n",
    "        return \"negligible\"\n",
    "    if diff < 0.14:\n",
    "        return \"small\"\n",
    "    if diff < 0.21:\n",
    "        return \"medium\"\n",
    "    return \"large\""
   ]
  },
  {
   "cell_type": "code",
   "execution_count": 28,
   "id": "fe8ffabb",
   "metadata": {},
   "outputs": [],
   "source": [
    "mutants_values = {\n",
    "    (scope, group, part): np.asarray(mutants_df[scope].loc[(group, part)])\n",
    "    for group in (\"pit\", \"reneri\")\n",
    "    for part in (1, 2)\n",
    "    for scope in (\"total\", \"Grid\", \"Tile\")\n",
    "}\n",
    "\n",
    "mutants_values = {\n",
    "    **mutants_values,\n",
    "    **{\n",
    "        (scope, group, \"delta\"): mutants_values[(scope, group, 2)] - mutants_values[(scope, group, 1)]\n",
    "        for group in (\"pit\", \"reneri\")\n",
    "        for scope in (\"total\", \"Grid\", \"Tile\")\n",
    "    }\n",
    "}"
   ]
  },
  {
   "cell_type": "code",
   "execution_count": 29,
   "id": "c3552002",
   "metadata": {},
   "outputs": [],
   "source": [
    "def show_pvalue(p: float) -> str:\n",
    "    if p < 0.001:\n",
    "        return \"p<.001\"\n",
    "    return 'p=' + f'{p:.3f}'.lstrip('0') \n",
    "\n",
    "\n",
    "def show_vda(control: np.ndarray, treatment: np.ndarray):\n",
    "    vda = VD_A(list(control), list(treatment))\n",
    "    effect_size = r\"\\textit{%s}\" % interpret_vda(vda)\n",
    "    return r\"with a %s effect size, $\\vad=%.2f$\" % (effect_size, vda)\n",
    "\n",
    "def independent_test(control: np.ndarray, treatment: np.ndarray, alternative=\"two-sided\"):\n",
    "    u = stats.mannwhitneyu(control, treatment, alternative=alternative)\n",
    "    text = f\"$U={u.statistic:.2f}$, ${show_pvalue(u.pvalue)}$, \"\n",
    "    print(text + show_vda(control, treatment))\n",
    "        \n",
    "\n",
    "def rel_test(control: np.ndarray, treatment: np.ndarray, alternative=\"two-sided\"):\n",
    "    w = stats.wilcoxon(control, treatment, alternative=alternative)\n",
    "    text = f\"$W={w.statistic:.2f}$, ${show_pvalue(w.pvalue)}$, \"\n",
    "    print(text + show_vda(control, treatment))"
   ]
  },
  {
   "cell_type": "code",
   "execution_count": 30,
   "id": "8a0ceae6",
   "metadata": {},
   "outputs": [
    {
     "name": "stdout",
     "output_type": "stream",
     "text": [
      "$W=0.00$, $p<.001$, with a \\textit{large} effect size, $\\vad=0.84$\n",
      "$W=0.00$, $p=.001$, with a \\textit{medium} effect size, $\\vad=0.66$\n",
      "$U=136.50$, $p=.526$, with a \\textit{small} effect size, $\\vad=0.43$\n",
      "$U=160.50$, $p=.057$, with a \\textit{medium} effect size, $\\vad=0.33$\n"
     ]
    },
    {
     "name": "stderr",
     "output_type": "stream",
     "text": [
      "c:\\users\\msi-gaming\\appdata\\local\\pypoetry\\cache\\virtualenvs\\données-oojr5lt1-py3.9\\lib\\site-packages\\scipy\\stats\\morestats.py:2967: UserWarning:Exact p-value calculation does not work if there are ties. Switching to normal approximation.\n"
     ]
    }
   ],
   "source": [
    "rel_test(mutants_values[(\"total\", \"pit\", 1)], mutants_values[(\"total\", \"pit\", 2)], \"less\")\n",
    "rel_test(mutants_values[(\"total\", \"reneri\", 1)], mutants_values[(\"total\", \"reneri\", 2)], \"less\")\n",
    "independent_test(mutants_values[(\"total\", \"pit\", 2)], mutants_values[(\"total\", \"reneri\", 2)])\n",
    "independent_test(mutants_values[(\"total\", \"pit\", \"delta\")], mutants_values[(\"total\", \"reneri\", \"delta\")], \"greater\")"
   ]
  },
  {
   "cell_type": "code",
   "execution_count": 31,
   "id": "0dd7489e",
   "metadata": {
    "scrolled": true
   },
   "outputs": [
    {
     "name": "stdout",
     "output_type": "stream",
     "text": [
      "$W=0.00$, $p<.001$, with a \\textit{large} effect size, $\\vad=0.84$\n",
      "$W=0.00$, $p=.008$, with a \\textit{small} effect size, $\\vad=0.60$\n",
      "$U=193.50$, $p=.002$, with a \\textit{large} effect size, $\\vad=0.19$\n",
      "$U=182.00$, $p=.007$, with a \\textit{large} effect size, $\\vad=0.24$\n"
     ]
    },
    {
     "name": "stderr",
     "output_type": "stream",
     "text": [
      "c:\\users\\msi-gaming\\appdata\\local\\pypoetry\\cache\\virtualenvs\\données-oojr5lt1-py3.9\\lib\\site-packages\\scipy\\stats\\morestats.py:2981: UserWarning:Sample size too small for normal approximation.\n"
     ]
    }
   ],
   "source": [
    "rel_test(mutants_values[(\"Tile\", \"pit\", 1)], mutants_values[(\"Tile\", \"pit\", 2)])\n",
    "rel_test(mutants_values[(\"Tile\", \"reneri\", 1)], mutants_values[(\"Tile\", \"reneri\", 2)])\n",
    "independent_test(mutants_values[(\"Tile\", \"pit\", 2)], mutants_values[(\"Tile\", \"reneri\", 2)], \"greater\")\n",
    "independent_test(mutants_values[(\"Tile\", \"pit\", \"delta\")], mutants_values[(\"Tile\", \"reneri\", \"delta\")], \"greater\")"
   ]
  },
  {
   "cell_type": "code",
   "execution_count": 32,
   "id": "816848ea",
   "metadata": {},
   "outputs": [
    {
     "name": "stdout",
     "output_type": "stream",
     "text": [
      "$W=0.00$, $p=.043$, with a \\textit{small} effect size, $\\vad=0.63$\n",
      "$W=0.00$, $p=.027$, with a \\textit{medium} effect size, $\\vad=0.64$\n",
      "$U=88.00$, $p=.086$, with a \\textit{small} effect size, $\\vad=0.63$\n",
      "$U=103.00$, $p=.223$, with a \\textit{small} effect size, $\\vad=0.57$\n"
     ]
    }
   ],
   "source": [
    "rel_test(mutants_values[(\"Grid\", \"pit\", 1)], mutants_values[(\"Grid\", \"pit\", 2)])\n",
    "rel_test(mutants_values[(\"Grid\", \"reneri\", 1)], mutants_values[(\"Grid\", \"reneri\", 2)])\n",
    "independent_test(mutants_values[(\"Grid\", \"pit\", 2)], mutants_values[(\"Grid\", \"reneri\", 2)], \"less\")\n",
    "independent_test(mutants_values[(\"Grid\", \"pit\", \"delta\")], mutants_values[(\"Grid\", \"reneri\", \"delta\")], \"less\")"
   ]
  },
  {
   "cell_type": "markdown",
   "id": "f6d994c6",
   "metadata": {},
   "source": [
    "# Coverage"
   ]
  },
  {
   "cell_type": "code",
   "execution_count": 33,
   "id": "997462e8",
   "metadata": {},
   "outputs": [
    {
     "name": "stdout",
     "output_type": "stream",
     "text": [
      "[Part 1] Students in pit group : 21\n",
      "[Part 1] Students in reneri group : 22\n",
      "[Part 2] Students in pit group : 21\n",
      "[Part 2] Students in reneri group : 22\n"
     ]
    }
   ],
   "source": [
    "coverage_df = pd.read_csv(\"./data/coverage.csv\")\n",
    "coverage_df = coverage_df.set_index([\"group\",  \"class\", \"part\"]).sort_index()\n",
    "count_students(coverage_df)"
   ]
  },
  {
   "cell_type": "code",
   "execution_count": 34,
   "id": "678c6e18",
   "metadata": {},
   "outputs": [
    {
     "name": "stdout",
     "output_type": "stream",
     "text": [
      "Students 2, 4, 9, 13, 16, 18, 20, 21, 22, 24, 26, 35 were removed.\n"
     ]
    }
   ],
   "source": [
    "display_rmv_students(coverage_df, \"instruction_missed\")"
   ]
  },
  {
   "cell_type": "code",
   "execution_count": 35,
   "id": "e8e39e38",
   "metadata": {},
   "outputs": [
    {
     "name": "stdout",
     "output_type": "stream",
     "text": [
      "[Part 1] Students in pit group : 18\n",
      "[Part 1] Students in reneri group : 17\n",
      "[Part 2] Students in pit group : 18\n",
      "[Part 2] Students in reneri group : 17\n"
     ]
    }
   ],
   "source": [
    "coverage_df = coverage_df.dropna()\n",
    "count_students(coverage_df)"
   ]
  },
  {
   "cell_type": "code",
   "execution_count": 36,
   "id": "f1f41dd9",
   "metadata": {},
   "outputs": [
    {
     "name": "stdout",
     "output_type": "stream",
     "text": [
      "[Part 1] Students in pit group : 16\n",
      "[Part 1] Students in reneri group : 15\n",
      "[Part 2] Students in pit group : 16\n",
      "[Part 2] Students in reneri group : 15\n"
     ]
    }
   ],
   "source": [
    "coverage_df = filter_not_both_part(coverage_df, 4)\n",
    "count_students(coverage_df)"
   ]
  },
  {
   "cell_type": "code",
   "execution_count": 37,
   "id": "4d57d326",
   "metadata": {},
   "outputs": [],
   "source": [
    "missed_columns = coverage_df.columns.str.endswith(\"_missed\")\n",
    "covered_columns = coverage_df.columns.str.endswith(\"_covered\")\n",
    "for missed, covered in zip(coverage_df.columns[missed_columns], coverage_df.columns[covered_columns]):\n",
    "    name = missed.replace(\"_missed\", \"\")\n",
    "    assert name == covered.replace(\"_covered\", \"\")\n",
    "    coverage_df[f\"{name} coverage\"] = coverage_df[covered]/(coverage_df[covered]+coverage_df[missed])"
   ]
  },
  {
   "cell_type": "code",
   "execution_count": 38,
   "id": "e1c8053b",
   "metadata": {},
   "outputs": [
    {
     "data": {
      "image/png": "[encoded data removed]",
      "text/plain": [
       "<Figure size 765.725x360 with 2 Axes>"
      ]
     },
     "metadata": {},
     "output_type": "display_data"
    }
   ],
   "source": [
    "data = coverage_df.sort_values(by=['group']).reset_index()\n",
    "coverage_plot = sns.catplot(\n",
    "    x=\"group\", y=\"instruction coverage\", hue=\"part\", col=\"class\", kind=\"box\", data=data, col_order=[\"Tile\", \"Grid\"], showmeans=True\n",
    ")\n",
    "_ = plt.yticks(np.arange(0, 1.1, 0.1))\n",
    "coverage_plot.figure.savefig(\"output/images/coverage/coverage_plot.pdf\")"
   ]
  },
  {
   "cell_type": "code",
   "execution_count": 39,
   "id": "d59a2ff8",
   "metadata": {},
   "outputs": [],
   "source": [
    "c = coverage_df.drop([\"id\"], axis=1)\n",
    "mean_coverage_df = c.groupby([\"group\", \"part\", \"class\"]).mean()\n",
    "std_coverage_df = c.groupby([\"group\", \"part\", \"class\"]).std()"
   ]
  },
  {
   "cell_type": "code",
   "execution_count": 40,
   "id": "a8ad41f7",
   "metadata": {},
   "outputs": [],
   "source": [
    "N_INSTRUCTIONS = {\"Grid\": 121, \"Tile\": 114}"
   ]
  },
  {
   "cell_type": "code",
   "execution_count": 41,
   "id": "f0c7b405",
   "metadata": {},
   "outputs": [],
   "source": [
    "def write_table_coverage(_df: pd.DataFrame, measure_name: str):\n",
    "    file_name = f\"instruction_coverage_{measure_name}\".lower().replace(' ', '_')\n",
    "    _df = _df.filter([\"group\", 'part', 'class', \"instruction_covered\"])\n",
    "    _df = _df.transpose()\n",
    "    for cls in (\"Grid\", \"Tile\"):\n",
    "        _df = compute_delta(_df, sublevels=(cls,))\n",
    "    for cls, nb_total in N_INSTRUCTIONS.items():\n",
    "        for group in (\"pit\", \"reneri\"):\n",
    "            for part in (1, 2, \"$\\\\Delta$\"):\n",
    "                nb = _df[(group, part, cls)][\"instruction_covered\"]\n",
    "                _df[(group, part, cls)] = format_cell(nb, nb_total, part)\n",
    "    _df = _df.transpose()\n",
    "    _df = _df.reset_index()\n",
    "    _df = _df.pivot(index='class', columns=['group', 'part'], values=\"instruction_covered\")\n",
    "    _df = _df.sort_index(axis=1)\n",
    "    _df = _df.reindex([\"Tile\", \"Grid\"])\n",
    "    _df.columns.names = [\"\\\\textbf{Group}\", \"\\\\textbf{Part}\"]\n",
    "    _df.index.name = None\n",
    "    latex_table = to_latex_table(_df, measure_name, \"Number of Instructions Covered\")\n",
    "    latex_table = re.sub(r\"(?=\\\\caption)\", r\"\\\\centering\\n\", latex_table)\n",
    "    with open(f\"output/tables/coverage/{file_name}.tex\", \"w\") as f:\n",
    "        f.write(latex_table)"
   ]
  },
  {
   "cell_type": "code",
   "execution_count": 42,
   "id": "be186f1b",
   "metadata": {},
   "outputs": [],
   "source": [
    "write_table_coverage(mean_coverage_df, \"Average\"),\n",
    "write_table_coverage(std_coverage_df, \"Standard Deviation\")"
   ]
  },
  {
   "cell_type": "code",
   "execution_count": 43,
   "id": "81a89215",
   "metadata": {},
   "outputs": [],
   "source": [
    "coverage_values = {\n",
    "    (scope, group, part): np.asarray(coverage_df.loc[(group, scope, part)][\"instruction coverage\"])\n",
    "    for group in (\"pit\", \"reneri\")\n",
    "    for part in (1, 2)\n",
    "    for scope in (\"Grid\", \"Tile\")\n",
    "}\n",
    "\n",
    "coverage_values = {\n",
    "    **coverage_values,\n",
    "    **{\n",
    "        (scope, group, \"delta\"): coverage_values[(scope, group, 2)] - coverage_values[(scope, group, 1)]\n",
    "        for group in (\"pit\", \"reneri\")\n",
    "        for scope in (\"Grid\", \"Tile\")\n",
    "    }\n",
    "}"
   ]
  },
  {
   "cell_type": "code",
   "execution_count": 44,
   "id": "010f69c8",
   "metadata": {},
   "outputs": [
    {
     "name": "stdout",
     "output_type": "stream",
     "text": [
      "$U=171.50$, $p=.020$, with a \\textit{large} effect size, $\\vad=0.29$\n"
     ]
    }
   ],
   "source": [
    "independent_test(coverage_values[(\"Tile\", \"pit\", \"delta\")], coverage_values[(\"Tile\", \"reneri\", \"delta\")], \"greater\")"
   ]
  },
  {
   "cell_type": "code",
   "execution_count": 45,
   "id": "7a14c8b2",
   "metadata": {},
   "outputs": [
    {
     "name": "stdout",
     "output_type": "stream",
     "text": [
      "$U=112.50$, $p=.758$, with a \\textit{negligible} effect size, $\\vad=0.53$\n"
     ]
    }
   ],
   "source": [
    "independent_test(coverage_values[(\"Grid\", \"pit\", \"delta\")], coverage_values[(\"Grid\", \"reneri\", \"delta\")])"
   ]
  },
  {
   "cell_type": "markdown",
   "id": "96c7d8e1",
   "metadata": {},
   "source": [
    "# Reneri hints"
   ]
  },
  {
   "cell_type": "code",
   "execution_count": 46,
   "id": "be03f4f8",
   "metadata": {},
   "outputs": [],
   "source": [
    "HINT_TYPES = [\"not_reached\", \"not_infected\", \"not_propagated\", \"not_revealed\"]"
   ]
  },
  {
   "cell_type": "code",
   "execution_count": 47,
   "id": "ee454375",
   "metadata": {},
   "outputs": [
    {
     "name": "stdout",
     "output_type": "stream",
     "text": [
      "[Part 1] Students in pit group : 21\n",
      "[Part 1] Students in reneri group : 22\n",
      "[Part 2] Students in pit group : 21\n",
      "[Part 2] Students in reneri group : 22\n"
     ]
    }
   ],
   "source": [
    "hints_df = pd.read_csv(\"data/hints.csv\")\n",
    "count_students(hints_df)"
   ]
  },
  {
   "cell_type": "code",
   "execution_count": 48,
   "id": "d789e447",
   "metadata": {},
   "outputs": [
    {
     "name": "stdout",
     "output_type": "stream",
     "text": [
      "Students 2, 4, 9, 13, 16, 18, 20, 21, 22, 24, 26, 35 were removed.\n"
     ]
    }
   ],
   "source": [
    "display_rmv_students(hints_df, \"not_reached\")"
   ]
  },
  {
   "cell_type": "code",
   "execution_count": 49,
   "id": "de8b445b",
   "metadata": {},
   "outputs": [
    {
     "name": "stdout",
     "output_type": "stream",
     "text": [
      "[Part 1] Students in pit group : 18\n",
      "[Part 1] Students in reneri group : 17\n",
      "[Part 2] Students in pit group : 18\n",
      "[Part 2] Students in reneri group : 17\n"
     ]
    }
   ],
   "source": [
    "hints_df = hints_df.dropna()\n",
    "count_students(hints_df)"
   ]
  },
  {
   "cell_type": "code",
   "execution_count": 50,
   "id": "e29f12bc",
   "metadata": {},
   "outputs": [
    {
     "name": "stdout",
     "output_type": "stream",
     "text": [
      "[Part 1] Students in pit group : 16\n",
      "[Part 1] Students in reneri group : 15\n",
      "[Part 2] Students in pit group : 16\n",
      "[Part 2] Students in reneri group : 15\n"
     ]
    }
   ],
   "source": [
    "hints_df = filter_not_both_part(hints_df)\n",
    "count_students(hints_df)"
   ]
  },
  {
   "cell_type": "code",
   "execution_count": 51,
   "id": "a833b745",
   "metadata": {},
   "outputs": [
    {
     "data": {
      "text/html": [
       "<div>\n",
       "<style scoped>\n",
       "    .dataframe tbody tr th:only-of-type {\n",
       "        vertical-align: middle;\n",
       "    }\n",
       "\n",
       "    .dataframe tbody tr th {\n",
       "        vertical-align: top;\n",
       "    }\n",
       "\n",
       "    .dataframe thead th {\n",
       "        text-align: right;\n",
       "    }\n",
       "</style>\n",
       "<table border=\"1\" class=\"dataframe\">\n",
       "  <thead>\n",
       "    <tr style=\"text-align: right;\">\n",
       "      <th></th>\n",
       "      <th>id</th>\n",
       "      <th>group</th>\n",
       "      <th>part</th>\n",
       "      <th>not_reached</th>\n",
       "      <th>not_infected</th>\n",
       "      <th>not_propagated</th>\n",
       "      <th>not_revealed</th>\n",
       "    </tr>\n",
       "  </thead>\n",
       "  <tbody>\n",
       "    <tr>\n",
       "      <th>0</th>\n",
       "      <td>1</td>\n",
       "      <td>reneri</td>\n",
       "      <td>1</td>\n",
       "      <td>16.0</td>\n",
       "      <td>0.0</td>\n",
       "      <td>0.0</td>\n",
       "      <td>0.0</td>\n",
       "    </tr>\n",
       "    <tr>\n",
       "      <th>1</th>\n",
       "      <td>1</td>\n",
       "      <td>reneri</td>\n",
       "      <td>2</td>\n",
       "      <td>15.0</td>\n",
       "      <td>0.0</td>\n",
       "      <td>0.0</td>\n",
       "      <td>0.0</td>\n",
       "    </tr>\n",
       "    <tr>\n",
       "      <th>4</th>\n",
       "      <td>3</td>\n",
       "      <td>reneri</td>\n",
       "      <td>1</td>\n",
       "      <td>12.0</td>\n",
       "      <td>1.0</td>\n",
       "      <td>0.0</td>\n",
       "      <td>0.0</td>\n",
       "    </tr>\n",
       "    <tr>\n",
       "      <th>5</th>\n",
       "      <td>3</td>\n",
       "      <td>reneri</td>\n",
       "      <td>2</td>\n",
       "      <td>9.0</td>\n",
       "      <td>0.0</td>\n",
       "      <td>0.0</td>\n",
       "      <td>0.0</td>\n",
       "    </tr>\n",
       "    <tr>\n",
       "      <th>8</th>\n",
       "      <td>5</td>\n",
       "      <td>reneri</td>\n",
       "      <td>1</td>\n",
       "      <td>11.0</td>\n",
       "      <td>0.0</td>\n",
       "      <td>0.0</td>\n",
       "      <td>0.0</td>\n",
       "    </tr>\n",
       "    <tr>\n",
       "      <th>...</th>\n",
       "      <td>...</td>\n",
       "      <td>...</td>\n",
       "      <td>...</td>\n",
       "      <td>...</td>\n",
       "      <td>...</td>\n",
       "      <td>...</td>\n",
       "      <td>...</td>\n",
       "    </tr>\n",
       "    <tr>\n",
       "      <th>81</th>\n",
       "      <td>41</td>\n",
       "      <td>pit</td>\n",
       "      <td>2</td>\n",
       "      <td>12.0</td>\n",
       "      <td>1.0</td>\n",
       "      <td>0.0</td>\n",
       "      <td>0.0</td>\n",
       "    </tr>\n",
       "    <tr>\n",
       "      <th>82</th>\n",
       "      <td>42</td>\n",
       "      <td>pit</td>\n",
       "      <td>1</td>\n",
       "      <td>15.0</td>\n",
       "      <td>0.0</td>\n",
       "      <td>0.0</td>\n",
       "      <td>0.0</td>\n",
       "    </tr>\n",
       "    <tr>\n",
       "      <th>83</th>\n",
       "      <td>42</td>\n",
       "      <td>pit</td>\n",
       "      <td>2</td>\n",
       "      <td>15.0</td>\n",
       "      <td>0.0</td>\n",
       "      <td>0.0</td>\n",
       "      <td>0.0</td>\n",
       "    </tr>\n",
       "    <tr>\n",
       "      <th>84</th>\n",
       "      <td>43</td>\n",
       "      <td>reneri</td>\n",
       "      <td>1</td>\n",
       "      <td>16.0</td>\n",
       "      <td>0.0</td>\n",
       "      <td>0.0</td>\n",
       "      <td>0.0</td>\n",
       "    </tr>\n",
       "    <tr>\n",
       "      <th>85</th>\n",
       "      <td>43</td>\n",
       "      <td>reneri</td>\n",
       "      <td>2</td>\n",
       "      <td>16.0</td>\n",
       "      <td>0.0</td>\n",
       "      <td>0.0</td>\n",
       "      <td>0.0</td>\n",
       "    </tr>\n",
       "  </tbody>\n",
       "</table>\n",
       "<p>62 rows × 7 columns</p>\n",
       "</div>"
      ],
      "text/plain": [
       "    id   group  part  not_reached  not_infected  not_propagated  not_revealed\n",
       "0    1  reneri     1         16.0           0.0             0.0           0.0\n",
       "1    1  reneri     2         15.0           0.0             0.0           0.0\n",
       "4    3  reneri     1         12.0           1.0             0.0           0.0\n",
       "5    3  reneri     2          9.0           0.0             0.0           0.0\n",
       "8    5  reneri     1         11.0           0.0             0.0           0.0\n",
       "..  ..     ...   ...          ...           ...             ...           ...\n",
       "81  41     pit     2         12.0           1.0             0.0           0.0\n",
       "82  42     pit     1         15.0           0.0             0.0           0.0\n",
       "83  42     pit     2         15.0           0.0             0.0           0.0\n",
       "84  43  reneri     1         16.0           0.0             0.0           0.0\n",
       "85  43  reneri     2         16.0           0.0             0.0           0.0\n",
       "\n",
       "[62 rows x 7 columns]"
      ]
     },
     "execution_count": 51,
     "metadata": {},
     "output_type": "execute_result"
    }
   ],
   "source": [
    "hints_df"
   ]
  },
  {
   "cell_type": "code",
   "execution_count": 52,
   "id": "6248274a",
   "metadata": {},
   "outputs": [
    {
     "data": {
      "image/png": "[encoded data removed]",
      "text/plain": [
       "<Figure size 765.725x720 with 4 Axes>"
      ]
     },
     "metadata": {},
     "output_type": "display_data"
    }
   ],
   "source": [
    "data = hints_df.copy()\n",
    "data = data.melt([\"id\", \"part\", \"group\"])\n",
    "data = data.rename({\"value\": \"hints\",  \"variable\": \"hint type\"}, axis=1)\n",
    "grid = sns.catplot(x=\"group\", y=\"hints\", hue=\"part\", col=\"hint type\", kind=\"box\", data=data, sharey=False, showmeans=True, col_wrap=2)\n",
    "grid.figure.savefig(\"output/images/hints/hints_plot.pdf\")"
   ]
  },
  {
   "cell_type": "markdown",
   "id": "b13c5a6b",
   "metadata": {},
   "source": [
    "# Criteria"
   ]
  },
  {
   "cell_type": "code",
   "execution_count": 53,
   "id": "4c2d8d2b",
   "metadata": {},
   "outputs": [
    {
     "name": "stdout",
     "output_type": "stream",
     "text": [
      "[Part 1] Students in pit group : 21\n",
      "[Part 1] Students in reneri group : 22\n",
      "[Part 2] Students in pit group : 21\n",
      "[Part 2] Students in reneri group : 22\n"
     ]
    }
   ],
   "source": [
    "criteria_df = pd.read_csv(\"data/criteria.csv\")\n",
    "count_students(criteria_df)"
   ]
  },
  {
   "cell_type": "code",
   "execution_count": 54,
   "id": "94f31dab",
   "metadata": {},
   "outputs": [
    {
     "name": "stdout",
     "output_type": "stream",
     "text": [
      "c1\n",
      "Students 2, 4, 8, 16 were removed.\n",
      "c2\n",
      "Students 2, 4, 8, 16 were removed.\n",
      "c3\n",
      "Students 2, 4, 8, 16 were removed.\n",
      "c4\n",
      "Students 1, 2, 4, 8, 16 were removed.\n",
      "c5\n",
      "Students 2, 4, 8, 11, 16, 32 were removed.\n"
     ]
    }
   ],
   "source": [
    "for c in (f\"c{i}\" for i in range(1, 6)):\n",
    "    print(c)\n",
    "    criteria_df[c] = criteria_df[c].str.replace(\",\", \".\")\n",
    "    display_rmv_students(criteria_df, c)"
   ]
  },
  {
   "cell_type": "code",
   "execution_count": 55,
   "id": "ef539837",
   "metadata": {},
   "outputs": [],
   "source": [
    "CRITERIA = {\n",
    "    \"c1\": \"Correctness (C1)\",\n",
    "    \"c2\": \"Completeness (C2)\",\n",
    "    \"c3\": \"Assertions (C3)\",\n",
    "    \"c4\": \"Design (C4)\",\n",
    "    \"c5\": \"Legibility (C5)\"\n",
    "}"
   ]
  },
  {
   "cell_type": "code",
   "execution_count": 56,
   "id": "f3dee56a",
   "metadata": {},
   "outputs": [],
   "source": [
    "criteria_melted_df = criteria_df.melt([\"id\", \"group\", \"part\"])"
   ]
  },
  {
   "cell_type": "code",
   "execution_count": 57,
   "id": "ab85cedc",
   "metadata": {},
   "outputs": [
    {
     "name": "stdout",
     "output_type": "stream",
     "text": [
      "[Part 1] Students in pit group : 20\n",
      "[Part 1] Students in reneri group : 20\n",
      "[Part 2] Students in pit group : 20\n",
      "[Part 2] Students in reneri group : 20\n"
     ]
    }
   ],
   "source": [
    "criteria_melted_df = criteria_melted_df[criteria_melted_df[\"value\"].notnull()]\n",
    "count_students(criteria_melted_df)"
   ]
  },
  {
   "cell_type": "code",
   "execution_count": 58,
   "id": "71d0c397",
   "metadata": {
    "scrolled": true
   },
   "outputs": [],
   "source": [
    "criteria_melted_df[\"value\"] = criteria_melted_df[\"value\"].str.replace(\",\", \".\").astype(float)\n",
    "for c, name in CRITERIA.items():\n",
    "    criteria_melted_df[\"variable\"] = criteria_melted_df[\"variable\"].str.replace(c, name)\n",
    "# Filters out the criteria that have not been rated for both parties.\n",
    "criteria_melted_df = pd.concat(\n",
    "    [filter_not_both_part(criteria_melted_df[criteria_melted_df[\"variable\"] == c]) for c in CRITERIA.values()]\n",
    ")"
   ]
  },
  {
   "cell_type": "code",
   "execution_count": 59,
   "id": "c1f638b9",
   "metadata": {},
   "outputs": [
    {
     "name": "stdout",
     "output_type": "stream",
     "text": [
      "Correctness (C1)\n",
      "[Part 1] Students in pit group : 20\n",
      "[Part 1] Students in reneri group : 19\n",
      "[Part 2] Students in pit group : 20\n",
      "[Part 2] Students in reneri group : 19\n",
      "\n",
      "Completeness (C2)\n",
      "[Part 1] Students in pit group : 20\n",
      "[Part 1] Students in reneri group : 19\n",
      "[Part 2] Students in pit group : 20\n",
      "[Part 2] Students in reneri group : 19\n",
      "\n",
      "Assertions (C3)\n",
      "[Part 1] Students in pit group : 20\n",
      "[Part 1] Students in reneri group : 19\n",
      "[Part 2] Students in pit group : 20\n",
      "[Part 2] Students in reneri group : 19\n",
      "\n",
      "Design (C4)\n",
      "[Part 1] Students in pit group : 20\n",
      "[Part 1] Students in reneri group : 18\n",
      "[Part 2] Students in pit group : 20\n",
      "[Part 2] Students in reneri group : 18\n",
      "\n",
      "Legibility (C5)\n",
      "[Part 1] Students in pit group : 20\n",
      "[Part 1] Students in reneri group : 17\n",
      "[Part 2] Students in pit group : 20\n",
      "[Part 2] Students in reneri group : 17\n",
      "\n"
     ]
    }
   ],
   "source": [
    "for c in CRITERIA.values():\n",
    "    print(c)\n",
    "    count_students(criteria_melted_df[criteria_melted_df[\"variable\"] == c])\n",
    "    print()"
   ]
  },
  {
   "cell_type": "code",
   "execution_count": 60,
   "id": "406ccb97",
   "metadata": {},
   "outputs": [],
   "source": [
    "def plot_point(df: pd.DataFrame, names: List[str], file_name: str, col_wrap:int=None):\n",
    "    df = df.rename({\"value\": \"rating\", \"variable\": \"criterion\"}, axis=1)\n",
    "    df = df.sort_values(by=['group'])\n",
    "    infos = handle_odd_col_wrap(col_wrap, df, \"criterion\", file_name, names)\n",
    "    for info in infos:\n",
    "        grid = sns.catplot(x=\"part\", y=\"rating\", col=\"criterion\", hue=\"group\", kind=\"point\",\n",
    "               col_wrap=info.col_wrap, data=info.data, dodge=True, estimator=np.mean, ci=\"sd\", palette=\"bone\",\n",
    "              despine=False, legend=info.legend)\n",
    "        grid.set(yticks=[1, 2, 3, 4], yticklabels=[\"1 (poor)\", \"2 (mediocre)\", \"3 (fair)\", \"4 (good)\"])\n",
    "        plt.tight_layout()\n",
    "        grid.figure.savefig(f\"output/images/criteria/{info.file_name}.pdf\")"
   ]
  },
  {
   "cell_type": "code",
   "execution_count": 61,
   "id": "03e09ddd",
   "metadata": {},
   "outputs": [
    {
     "data": {
      "image/png": "[encoded data removed]",
      "text/plain": [
       "<Figure size 787.975x360 with 2 Axes>"
      ]
     },
     "metadata": {},
     "output_type": "display_data"
    }
   ],
   "source": [
    "plot_point(criteria_melted_df, [\"Completeness (C2)\", \"Assertions (C3)\"], \"criteria_plot\")"
   ]
  },
  {
   "cell_type": "code",
   "execution_count": 62,
   "id": "6f362002",
   "metadata": {
    "scrolled": true
   },
   "outputs": [
    {
     "data": {
      "image/png": "[encoded data removed]",
      "text/plain": [
       "<Figure size 787.975x360 with 2 Axes>"
      ]
     },
     "metadata": {},
     "output_type": "display_data"
    },
    {
     "data": {
      "image/png": "[encoded data removed]",
      "text/plain": [
       "<Figure size 360x360 with 1 Axes>"
      ]
     },
     "metadata": {},
     "output_type": "display_data"
    }
   ],
   "source": [
    "plot_point(criteria_melted_df, [\"Correctness (C1)\", \"Design (C4)\", \"Legibility (C5)\"], \"criteria_plot_appendix\", 2)"
   ]
  },
  {
   "cell_type": "code",
   "execution_count": 63,
   "id": "7c73146e",
   "metadata": {},
   "outputs": [],
   "source": [
    "mean_criteria_df = criteria_melted_df.groupby([\"variable\", \"group\", \"part\"]).mean()[[\"value\"]]\n",
    "std_criteria_df = criteria_melted_df.groupby([\"variable\", \"group\", \"part\"]).std()[[\"value\"]]"
   ]
  },
  {
   "cell_type": "code",
   "execution_count": 64,
   "id": "be16ec11",
   "metadata": {},
   "outputs": [],
   "source": [
    "def write_table_criteria(_df: pd.DataFrame, measure_name: str):\n",
    "    file_name = f\"criteria_{measure_name}\".lower().replace(' ', '_')\n",
    "    _df = _df.reset_index()\n",
    "    _df = _df.pivot(index='variable', columns=['group', 'part'], values=\"value\")\n",
    "    _df = _df.reindex(CRITERIA.values())\n",
    "    _df = compute_delta(_df)\n",
    "    _df = _df.applymap(lambda v: f\"{v:+.2f}\")\n",
    "    _df.columns.names = [\"\\\\textbf{Group}\", \"\\\\textbf{Part}\"]\n",
    "    _df.index.name = None\n",
    "    latex_table = to_latex_table(_df, measure_name, \"Rating\")\n",
    "    latex_table = re.sub(r\"(?=\\\\caption)\", r\"\\\\centering\\n\", latex_table)\n",
    "    with open(f\"output/tables/criteria/{file_name}.tex\", \"w\") as f:\n",
    "        f.write(latex_table)"
   ]
  },
  {
   "cell_type": "code",
   "execution_count": 65,
   "id": "6e5e2584",
   "metadata": {},
   "outputs": [],
   "source": [
    "write_table_criteria(mean_criteria_df, \"Average\"),\n",
    "write_table_criteria(std_criteria_df, \"Standard Deviation\")"
   ]
  },
  {
   "cell_type": "markdown",
   "id": "09c9ef10",
   "metadata": {},
   "source": [
    "# Questionnaire"
   ]
  },
  {
   "cell_type": "code",
   "execution_count": 66,
   "id": "08ff14eb",
   "metadata": {},
   "outputs": [],
   "source": [
    "from questions2latex  import write_table_questionaire"
   ]
  },
  {
   "cell_type": "code",
   "execution_count": 67,
   "id": "a929d488",
   "metadata": {},
   "outputs": [],
   "source": [
    "write_table_questionaire()"
   ]
  }
 ],
 "metadata": {
  "kernelspec": {
   "display_name": "Python 3 (ipykernel)",
   "language": "python",
   "name": "python3"
  },
  "language_info": {
   "codemirror_mode": {
    "name": "ipython",
    "version": 3
   },
   "file_extension": ".py",
   "mimetype": "text/x-python",
   "name": "python",
   "nbconvert_exporter": "python",
   "pygments_lexer": "ipython3",
   "version": "3.9.3"
  }
 },
 "nbformat": 4,
 "nbformat_minor": 5
}
